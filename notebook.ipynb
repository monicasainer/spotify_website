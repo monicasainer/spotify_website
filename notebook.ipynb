{
 "cells": [
  {
   "cell_type": "code",
   "execution_count": 1,
   "metadata": {},
   "outputs": [],
   "source": [
    "import streamlit as st\n",
    "import pandas as pd\n",
    "from google.oauth2 import service_account\n",
    "from  gspread_pandas import Spread, Client\n",
    "import ssl\n",
    "import datetime\n",
    "import time\n",
    "import plotly.express as px\n",
    "import plotly.graph_objects as go\n",
    "\n",
    "\n",
    "ssl.create_default_https_context = ssl._create_unverified_context\n",
    "\n",
    "scope = [\"https://spreadsheets.google.com/feeds\",\"https://www.googleapis.com/auth/drive\"]\n",
    "credentials = service_account.Credentials.from_service_account_info(\n",
    "    st.secrets[\"gcp_service_account\"],\n",
    "    scopes=scope)\n",
    "\n",
    "clients = Client(scope=scope,creds=credentials)\n",
    "\n",
    "spreadsheet_name = \"Spotify_database\"\n",
    "spread = Spread(spreadsheet_name,client=clients)\n",
    "\n",
    "sh = clients.open(spreadsheet_name)\n",
    "worksheet_list =sh.worksheets()\n",
    "\n",
    "\n",
    "# Functions\n",
    "@st.cache_resource()\n",
    "# Get our worksheet names\n",
    "def worksheet_names():\n",
    "    sheet_names = []\n",
    "    for sheet in worksheet_list:\n",
    "        sheet_names.append(sheet.title)\n",
    "    return sheet_names\n",
    "\n",
    "# Get the sheet as dataframe\n",
    "def load_the_spreadsheet(spreadsheetname):\n",
    "    worksheet = sh.worksheet(spreadsheetname)\n",
    "    df = pd.DataFrame(worksheet.get_all_records())\n",
    "    return df\n",
    "\n"
   ]
  },
  {
   "cell_type": "code",
   "execution_count": 3,
   "metadata": {},
   "outputs": [
    {
     "name": "stdout",
     "output_type": "stream",
     "text": [
      "Index(['weekday', 'minutes_played'], dtype='object') Index(['typeObject', 'weekday', 'minutes_played'], dtype='object')\n"
     ]
    }
   ],
   "source": [
    "historical_data_df = load_the_spreadsheet('historical_data')\n",
    "classification_df = load_the_spreadsheet('classification')\n",
    "historical_data_dates_track_types_df = load_the_spreadsheet('historical_dates_types_grouped')\n",
    "historical_data_dates_df = load_the_spreadsheet('historical_dates')\n",
    "number_of_artists_yearly = historical_data_df['artistName'].nunique()\n",
    "number_of_tracks_yearly = historical_data_df['trackName'].nunique()\n",
    "minutes_per_weekday_total = historical_data_dates_df.groupby(['weekday'],as_index=False).agg(minutes_played=('minutesPlayed','sum'))\n",
    "minutes_per_weekday_type = historical_data_dates_track_types_df.groupby(['typeObject','weekday'],as_index=False).agg(minutes_played=('listeningTracks','sum'))\n",
    "print(minutes_per_weekday_total.columns,minutes_per_weekday_type.columns)"
   ]
  },
  {
   "cell_type": "code",
   "execution_count": 4,
   "metadata": {},
   "outputs": [
    {
     "ename": "KeyError",
     "evalue": "'minutesPlayed'",
     "output_type": "error",
     "traceback": [
      "\u001b[0;31m---------------------------------------------------------------------------\u001b[0m",
      "\u001b[0;31mKeyError\u001b[0m                                  Traceback (most recent call last)",
      "File \u001b[0;32m~/.pyenv/versions/3.10.6/envs/lewagon/lib/python3.10/site-packages/pandas/core/indexes/base.py:3629\u001b[0m, in \u001b[0;36mIndex.get_loc\u001b[0;34m(self, key, method, tolerance)\u001b[0m\n\u001b[1;32m   3628\u001b[0m \u001b[39mtry\u001b[39;00m:\n\u001b[0;32m-> 3629\u001b[0m     \u001b[39mreturn\u001b[39;00m \u001b[39mself\u001b[39;49m\u001b[39m.\u001b[39;49m_engine\u001b[39m.\u001b[39;49mget_loc(casted_key)\n\u001b[1;32m   3630\u001b[0m \u001b[39mexcept\u001b[39;00m \u001b[39mKeyError\u001b[39;00m \u001b[39mas\u001b[39;00m err:\n",
      "File \u001b[0;32m~/.pyenv/versions/3.10.6/envs/lewagon/lib/python3.10/site-packages/pandas/_libs/index.pyx:136\u001b[0m, in \u001b[0;36mpandas._libs.index.IndexEngine.get_loc\u001b[0;34m()\u001b[0m\n",
      "File \u001b[0;32m~/.pyenv/versions/3.10.6/envs/lewagon/lib/python3.10/site-packages/pandas/_libs/index.pyx:163\u001b[0m, in \u001b[0;36mpandas._libs.index.IndexEngine.get_loc\u001b[0;34m()\u001b[0m\n",
      "File \u001b[0;32mpandas/_libs/hashtable_class_helper.pxi:5198\u001b[0m, in \u001b[0;36mpandas._libs.hashtable.PyObjectHashTable.get_item\u001b[0;34m()\u001b[0m\n",
      "File \u001b[0;32mpandas/_libs/hashtable_class_helper.pxi:5206\u001b[0m, in \u001b[0;36mpandas._libs.hashtable.PyObjectHashTable.get_item\u001b[0;34m()\u001b[0m\n",
      "\u001b[0;31mKeyError\u001b[0m: 'minutesPlayed'",
      "\nThe above exception was the direct cause of the following exception:\n",
      "\u001b[0;31mKeyError\u001b[0m                                  Traceback (most recent call last)",
      "\u001b[1;32m/Users/monic/code/monicasainer/spotify_website/notebook.ipynb Cell 3\u001b[0m in \u001b[0;36m3\n\u001b[1;32m      <a href='vscode-notebook-cell:/Users/monic/code/monicasainer/spotify_website/notebook.ipynb#W2sZmlsZQ%3D%3D?line=0'>1</a>\u001b[0m fig \u001b[39m=\u001b[39m go\u001b[39m.\u001b[39mFigure(data\u001b[39m=\u001b[39m[go\u001b[39m.\u001b[39mBar(\n\u001b[1;32m      <a href='vscode-notebook-cell:/Users/monic/code/monicasainer/spotify_website/notebook.ipynb#W2sZmlsZQ%3D%3D?line=1'>2</a>\u001b[0m     x\u001b[39m=\u001b[39mminutes_per_weekday_total[\u001b[39m'\u001b[39m\u001b[39mweekday\u001b[39m\u001b[39m'\u001b[39m],\n\u001b[0;32m----> <a href='vscode-notebook-cell:/Users/monic/code/monicasainer/spotify_website/notebook.ipynb#W2sZmlsZQ%3D%3D?line=2'>3</a>\u001b[0m     y\u001b[39m=\u001b[39mminutes_per_weekday_total[\u001b[39m'\u001b[39;49m\u001b[39mminutesPlayed\u001b[39;49m\u001b[39m'\u001b[39;49m],\n\u001b[1;32m      <a href='vscode-notebook-cell:/Users/monic/code/monicasainer/spotify_website/notebook.ipynb#W2sZmlsZQ%3D%3D?line=3'>4</a>\u001b[0m     marker_color\u001b[39m=\u001b[39mcolors \u001b[39m# marker color can be a single color value or an iterable\u001b[39;00m\n\u001b[1;32m      <a href='vscode-notebook-cell:/Users/monic/code/monicasainer/spotify_website/notebook.ipynb#W2sZmlsZQ%3D%3D?line=4'>5</a>\u001b[0m     )])\n\u001b[1;32m      <a href='vscode-notebook-cell:/Users/monic/code/monicasainer/spotify_website/notebook.ipynb#W2sZmlsZQ%3D%3D?line=5'>6</a>\u001b[0m fig\u001b[39m.\u001b[39mupdate_layout(title_text\u001b[39m=\u001b[39m\u001b[39m'\u001b[39m\u001b[39mMinutes listened per weekday(Total)\u001b[39m\u001b[39m'\u001b[39m)\n\u001b[1;32m      <a href='vscode-notebook-cell:/Users/monic/code/monicasainer/spotify_website/notebook.ipynb#W2sZmlsZQ%3D%3D?line=6'>7</a>\u001b[0m fig\u001b[39m.\u001b[39mshow()\n",
      "File \u001b[0;32m~/.pyenv/versions/3.10.6/envs/lewagon/lib/python3.10/site-packages/pandas/core/frame.py:3505\u001b[0m, in \u001b[0;36mDataFrame.__getitem__\u001b[0;34m(self, key)\u001b[0m\n\u001b[1;32m   3503\u001b[0m \u001b[39mif\u001b[39;00m \u001b[39mself\u001b[39m\u001b[39m.\u001b[39mcolumns\u001b[39m.\u001b[39mnlevels \u001b[39m>\u001b[39m \u001b[39m1\u001b[39m:\n\u001b[1;32m   3504\u001b[0m     \u001b[39mreturn\u001b[39;00m \u001b[39mself\u001b[39m\u001b[39m.\u001b[39m_getitem_multilevel(key)\n\u001b[0;32m-> 3505\u001b[0m indexer \u001b[39m=\u001b[39m \u001b[39mself\u001b[39;49m\u001b[39m.\u001b[39;49mcolumns\u001b[39m.\u001b[39;49mget_loc(key)\n\u001b[1;32m   3506\u001b[0m \u001b[39mif\u001b[39;00m is_integer(indexer):\n\u001b[1;32m   3507\u001b[0m     indexer \u001b[39m=\u001b[39m [indexer]\n",
      "File \u001b[0;32m~/.pyenv/versions/3.10.6/envs/lewagon/lib/python3.10/site-packages/pandas/core/indexes/base.py:3631\u001b[0m, in \u001b[0;36mIndex.get_loc\u001b[0;34m(self, key, method, tolerance)\u001b[0m\n\u001b[1;32m   3629\u001b[0m     \u001b[39mreturn\u001b[39;00m \u001b[39mself\u001b[39m\u001b[39m.\u001b[39m_engine\u001b[39m.\u001b[39mget_loc(casted_key)\n\u001b[1;32m   3630\u001b[0m \u001b[39mexcept\u001b[39;00m \u001b[39mKeyError\u001b[39;00m \u001b[39mas\u001b[39;00m err:\n\u001b[0;32m-> 3631\u001b[0m     \u001b[39mraise\u001b[39;00m \u001b[39mKeyError\u001b[39;00m(key) \u001b[39mfrom\u001b[39;00m \u001b[39merr\u001b[39;00m\n\u001b[1;32m   3632\u001b[0m \u001b[39mexcept\u001b[39;00m \u001b[39mTypeError\u001b[39;00m:\n\u001b[1;32m   3633\u001b[0m     \u001b[39m# If we have a listlike key, _check_indexing_error will raise\u001b[39;00m\n\u001b[1;32m   3634\u001b[0m     \u001b[39m#  InvalidIndexError. Otherwise we fall through and re-raise\u001b[39;00m\n\u001b[1;32m   3635\u001b[0m     \u001b[39m#  the TypeError.\u001b[39;00m\n\u001b[1;32m   3636\u001b[0m     \u001b[39mself\u001b[39m\u001b[39m.\u001b[39m_check_indexing_error(key)\n",
      "\u001b[0;31mKeyError\u001b[0m: 'minutesPlayed'"
     ]
    }
   ],
   "source": [
    "fig = go.Figure(data=[go.Bar(\n",
    "    x=minutes_per_weekday_total['weekday'],\n",
    "    y=minutes_per_weekday_total['minutes_played'],\n",
    "    marker_color=colors # marker color can be a single color value or an iterable\n",
    "    )])\n",
    "fig.update_layout(title_text='Minutes listened per weekday(Total)')\n",
    "fig.show()"
   ]
  },
  {
   "cell_type": "code",
   "execution_count": null,
   "metadata": {},
   "outputs": [],
   "source": []
  }
 ],
 "metadata": {
  "kernelspec": {
   "display_name": "lewagon",
   "language": "python",
   "name": "python3"
  },
  "language_info": {
   "codemirror_mode": {
    "name": "ipython",
    "version": 3
   },
   "file_extension": ".py",
   "mimetype": "text/x-python",
   "name": "python",
   "nbconvert_exporter": "python",
   "pygments_lexer": "ipython3",
   "version": "3.10.6"
  },
  "orig_nbformat": 4
 },
 "nbformat": 4,
 "nbformat_minor": 2
}
